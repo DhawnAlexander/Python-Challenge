{
 "cells": [
  {
   "cell_type": "code",
   "execution_count": 25,
   "id": "3c2ce719",
   "metadata": {},
   "outputs": [],
   "source": [
    "import csv\n",
    "import os\n"
   ]
  },
  {
   "cell_type": "code",
   "execution_count": 26,
   "id": "f690a8cc",
   "metadata": {},
   "outputs": [],
   "source": [
    "data = csv.DictReader(open(\"C:\\\\Users\\\\dhawn\\\\OneDrive\\\\Desktop\\\\Challenge3\\\\PyBank\\\\Resources\\\\budget_data.csv\"))"
   ]
  },
  {
   "cell_type": "code",
   "execution_count": 27,
   "id": "725924fa",
   "metadata": {},
   "outputs": [],
   "source": [
    "months = 0\n",
    "total = 0\n",
    "total_ch = 0"
   ]
  },
  {
   "cell_type": "code",
   "execution_count": 28,
   "id": "b6b55daa",
   "metadata": {},
   "outputs": [],
   "source": [
    "# List\n",
    "inc = ['',0]\n",
    "dec = ['',0]"
   ]
  },
  {
   "cell_type": "code",
   "execution_count": 29,
   "id": "dc7bc010",
   "metadata": {},
   "outputs": [],
   "source": [
    "# Headers\n",
    "headers = []\n",
    "headers = data.fieldnames"
   ]
  },
  {
   "cell_type": "code",
   "execution_count": 30,
   "id": "242a5a1a",
   "metadata": {},
   "outputs": [],
   "source": [
    "for i, row in enumerate(data):\n",
    "    rev = int(row['Profit/Losses'])\n",
    "    months += 1\n",
    "    total += rev\n",
    "    \n",
    "    if i == 0:\n",
    "        pre_rev = rev"
   ]
  },
  {
   "cell_type": "code",
   "execution_count": 31,
   "id": "d46dbc39",
   "metadata": {},
   "outputs": [],
   "source": [
    "change = rev - pre_rev"
   ]
  },
  {
   "cell_type": "code",
   "execution_count": 32,
   "id": "c26b47cb",
   "metadata": {},
   "outputs": [],
   "source": [
    "# Average change\n",
    "total_ch += change\n",
    "pre_rev = rev"
   ]
  },
  {
   "cell_type": "code",
   "execution_count": 33,
   "id": "97d4b087",
   "metadata": {},
   "outputs": [],
   "source": [
    "# Greatest increase\n",
    "if change > inc[1]:\n",
    "    inc[1] = change\n",
    "    inc[0] = row['Date']"
   ]
  },
  {
   "cell_type": "code",
   "execution_count": 34,
   "id": "843c69ff",
   "metadata": {},
   "outputs": [],
   "source": [
    "# Greatest decrease\n",
    "if change < dec[1]:\n",
    "    dec[1] = change\n",
    "    dec[0] = row['Date']"
   ]
  },
  {
   "cell_type": "code",
   "execution_count": 35,
   "id": "a1a091f5",
   "metadata": {},
   "outputs": [],
   "source": [
    "# Output analysis\n",
    "output = f'''\\n  Financial Analysis\n",
    "-------------------------------------------\n",
    "Total Months: {months}\n",
    "Total:  $ {total:,.2f}\n",
    "Average Change:  $  {total_ch/(months-1):,.2f}\n",
    "Greatest Increase in Profits:  {inc[0]}  (${inc[1]:,.2f})\n",
    "Greatest Decrease in Profits:  {dec[0]}  (${dec[1]:,.2f})'''"
   ]
  },
  {
   "cell_type": "code",
   "execution_count": 24,
   "id": "621ed0e0",
   "metadata": {},
   "outputs": [
    {
     "name": "stdout",
     "output_type": "stream",
     "text": [
      "\n",
      "  Financial Analysis\n",
      "-------------------------------------------\n",
      "Total Months: 86\n",
      "Total:  $ 22,564,198.00\n",
      "Average Change:  $  -8,311.11\n",
      "Greatest Increase in Profits:    ($0.00)\n",
      "Greatest Decrease in Profits:    ($0.00)\n"
     ]
    }
   ],
   "source": [
    "print(output)"
   ]
  },
  {
   "cell_type": "code",
   "execution_count": 38,
   "id": "533a6bb0",
   "metadata": {},
   "outputs": [],
   "source": [
    "with open('C:\\\\Users\\\\dhawn\\\\OneDrive\\\\Desktop\\\\Challenge3\\\\PyBank\\\\Financial Analysis.txt', 'w') as file:\n",
    "    file.write(output)"
   ]
  },
  {
   "cell_type": "code",
   "execution_count": null,
   "id": "31f26cb5",
   "metadata": {},
   "outputs": [],
   "source": []
  }
 ],
 "metadata": {
  "kernelspec": {
   "display_name": "Python 3 (ipykernel)",
   "language": "python",
   "name": "python3"
  },
  "language_info": {
   "codemirror_mode": {
    "name": "ipython",
    "version": 3
   },
   "file_extension": ".py",
   "mimetype": "text/x-python",
   "name": "python",
   "nbconvert_exporter": "python",
   "pygments_lexer": "ipython3",
   "version": "3.9.13"
  }
 },
 "nbformat": 4,
 "nbformat_minor": 5
}
