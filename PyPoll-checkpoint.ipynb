{
 "cells": [
  {
   "cell_type": "code",
   "execution_count": 88,
   "id": "a5250440",
   "metadata": {},
   "outputs": [],
   "source": [
    "import csv\n",
    "import os"
   ]
  },
  {
   "cell_type": "code",
   "execution_count": 89,
   "id": "e4736f5b",
   "metadata": {},
   "outputs": [],
   "source": [
    "csv_path = 'C:\\\\Users\\\\dhawn\\\\OneDrive\\\\Desktop\\\\Challenge3\\\\PyPoll\\\\Resources\\\\election_data.csv'"
   ]
  },
  {
   "cell_type": "code",
   "execution_count": 90,
   "id": "07cd4e8c",
   "metadata": {},
   "outputs": [],
   "source": [
    "candidates = []\n",
    "nondupcandidates = []"
   ]
  },
  {
   "cell_type": "code",
   "execution_count": 91,
   "id": "1c194f5d",
   "metadata": {},
   "outputs": [],
   "source": [
    "# Total votes\n",
    "votesforStock = 0\n",
    "votesforDegette = 0\n",
    "votesforDoane = 0"
   ]
  },
  {
   "cell_type": "code",
   "execution_count": 92,
   "id": "286040ab",
   "metadata": {},
   "outputs": [],
   "source": [
    "# Percentage of votes\n",
    "percentforStock = 0\n",
    "percentforDegette = 0\n",
    "percentforDoane = 0"
   ]
  },
  {
   "cell_type": "code",
   "execution_count": 93,
   "id": "0b3d241d",
   "metadata": {},
   "outputs": [],
   "source": [
    "with open(csv_path) as handler:\n",
    "    csvreader = csv.reader(handler, delimiter=\",\")\n",
    "    csvheader = next(csvreader)   \n",
    "    \n",
    "    #list containing every votes candidate selected\n",
    "    for item in csvreader:      \n",
    "        candidates.append(item[2]) \n",
    "        if item[2] == 'Charles Casper Stockham':\n",
    "            votesforStock+=1\n",
    "        if item[2] == 'Diana DeGette':\n",
    "            votesforDegette+=1\n",
    "        if item[2] == 'Raymon Anthony Doane':\n",
    "            votesforDoane+=1"
   ]
  },
  {
   "cell_type": "code",
   "execution_count": 94,
   "id": "6fd2be37",
   "metadata": {},
   "outputs": [],
   "source": [
    "# Delete duplicate names\n",
    "for item in candidates:\n",
    "    if item not in nondupcandidates:\n",
    "        nondupcandidates.append(item)"
   ]
  },
  {
   "cell_type": "code",
   "execution_count": 95,
   "id": "5adec982",
   "metadata": {},
   "outputs": [],
   "source": [
    "data = csv.DictReader(open(\"C:\\\\Users\\\\dhawn\\\\OneDrive\\\\Desktop\\\\Challenge3\\\\PyPoll\\\\Resources\\\\election_data.csv\"))\n",
    "numberofvotes = 0\n",
    "for row in data:\n",
    "    numberofvotes+=1"
   ]
  },
  {
   "cell_type": "code",
   "execution_count": 100,
   "id": "43d612d5",
   "metadata": {},
   "outputs": [],
   "source": [
    "# Percentage per candidate\n",
    "PercentforStock = (votesforStock/numberofvotes)*100\n",
    "PercentforDegette = (votesforDegette/numberofvotes)*100\n",
    "PercentforDoane = (votesforDoane/numberofvotes)*100"
   ]
  },
  {
   "cell_type": "code",
   "execution_count": 101,
   "id": "df3c6f05",
   "metadata": {},
   "outputs": [],
   "source": [
    "winner=\"\"\n",
    "if votesforStock > votesforDegette and votesforStock > votesforDoane:\n",
    "    winner = \"Charles Casper Stockham\"\n",
    "elif votesforDegette > votesforDoane and votesforDegette > votesforStock:\n",
    "    winner = \"Diana DeGette\"\n",
    "elif votesforDoane> votesforStock and votesforDoane > votesforDegette:\n",
    "    winner=\"Raymon Anthony Doane\""
   ]
  },
  {
   "cell_type": "code",
   "execution_count": 102,
   "id": "afaac06f",
   "metadata": {},
   "outputs": [],
   "source": [
    "output= f'''Election Results\n",
    "--------------------------------\n",
    "Total Votes: {numberofvotes:,.0f}\n",
    "# ------------------------------\n",
    "{nondupcandidates[0]}: {PercentforStock:.3f}% ({votesforStock:,.0f})\n",
    "{nondupcandidates[1]}: {PercentforDegette:.3f}% ({votesforDegette:,.0f})\n",
    "{nondupcandidates[2]}: {PercentforDoane:.3f}% ({votesforDoane:,.0f})\n",
    "--------------------------------\n",
    "Winner: {winner}\n",
    "--------------------------------'''"
   ]
  },
  {
   "cell_type": "code",
   "execution_count": 103,
   "id": "c6cd78aa",
   "metadata": {},
   "outputs": [
    {
     "name": "stdout",
     "output_type": "stream",
     "text": [
      "Election Results\n",
      "--------------------------------\n",
      "Total Votes: 369,711\n",
      "# ------------------------------\n",
      "Charles Casper Stockham: 23.049% (85,213)\n",
      "Diana DeGette: 73.812% (272,892)\n",
      "Raymon Anthony Doane: 3.139% (11,606)\n",
      "--------------------------------\n",
      "Winner: Diana DeGette\n",
      "--------------------------------\n"
     ]
    }
   ],
   "source": [
    "print(output)"
   ]
  },
  {
   "cell_type": "code",
   "execution_count": 106,
   "id": "6ec62fda",
   "metadata": {},
   "outputs": [],
   "source": [
    "with open('C:\\\\Users\\\\dhawn\\\\OneDrive\\\\Desktop\\\\Challenge3\\\\PyPoll\\\\Election Results.txt', 'w') as file:\n",
    "    file.write(output)"
   ]
  },
  {
   "cell_type": "code",
   "execution_count": null,
   "id": "9f9035fd",
   "metadata": {},
   "outputs": [],
   "source": []
  }
 ],
 "metadata": {
  "kernelspec": {
   "display_name": "Python 3 (ipykernel)",
   "language": "python",
   "name": "python3"
  },
  "language_info": {
   "codemirror_mode": {
    "name": "ipython",
    "version": 3
   },
   "file_extension": ".py",
   "mimetype": "text/x-python",
   "name": "python",
   "nbconvert_exporter": "python",
   "pygments_lexer": "ipython3",
   "version": "3.9.13"
  }
 },
 "nbformat": 4,
 "nbformat_minor": 5
}
